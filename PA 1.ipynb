{
 "cells": [
  {
   "cell_type": "code",
   "execution_count": 22,
   "id": "e6cb812a-8bfe-4a0b-8553-79858a607068",
   "metadata": {},
   "outputs": [
    {
     "name": "stdin",
     "output_type": "stream",
     "text": [
      "Enter a word or sentence:  TERRENCE\n"
     ]
    },
    {
     "name": "stdout",
     "output_type": "stream",
     "text": [
      "Alphabet Soup Output: ceeenrrt\n"
     ]
    },
    {
     "data": {
      "text/plain": [
       "'ceeenrrt'"
      ]
     },
     "execution_count": 22,
     "metadata": {},
     "output_type": "execute_result"
    }
   ],
   "source": [
    "def alpha_soup(words):\n",
    "    words = words.replace(\" \", \"\").lower()\n",
    "    if words.isalpha():  # check if all are alphabet\n",
    "        new = \"\".join(sorted(words))  # sort alphabetically\n",
    "        print(\"Alphabet Soup Output:\", new)\n",
    "        return new\n",
    "    else:\n",
    "        print(\"All must be Alphabet\")\n",
    "        return None\n",
    "\n",
    "# Input and Output\n",
    "user_text = input(\"Enter a word or sentence: \")\n",
    "alpha_soup(user_text)"
   ]
  },
  {
   "cell_type": "code",
   "execution_count": 24,
   "id": "9364c0de-c59b-4b65-b521-74c3016d3c82",
   "metadata": {},
   "outputs": [
    {
     "name": "stdin",
     "output_type": "stream",
     "text": [
      "Enter a sentence:  SMILE GRIN SAD MAD\n"
     ]
    },
    {
     "name": "stdout",
     "output_type": "stream",
     "text": [
      "Emoticon Output: :) :D :(( >:(\n"
     ]
    }
   ],
   "source": [
    "# Function for Emoticons\n",
    "def emoticon(words):\n",
    "    # Emoticons\n",
    "    emote = { \"smile\": \":)\",\n",
    "              \"grin\": \":D\",\n",
    "              \"sad\": \":((\",\n",
    "              \"mad\": \">:(\" }\n",
    "\n",
    "    # convert text to lowercase and split into words\n",
    "    words = words.lower().split()\n",
    "\n",
    "    new = \"\"\n",
    "    # check each word, replace if in dictionary\n",
    "    for i in words:\n",
    "        if i in emote:\n",
    "            new += emote[i] + \" \"\n",
    "        else:\n",
    "            new += i + \" \"\n",
    "    return new.strip()\n",
    "\n",
    "# Input and Output\n",
    "user_text = input(\"Enter a sentence: \")\n",
    "print(\"Emoticon Output:\", emoticon(user_text))\n"
   ]
  },
  {
   "cell_type": "code",
   "execution_count": 25,
   "id": "f9c5623c-19b6-42c8-a9e7-b9cb476c22eb",
   "metadata": {},
   "outputs": [
    {
     "name": "stdin",
     "output_type": "stream",
     "text": [
      "Enter numbers separated by space:  1 2 3 4 5\n"
     ]
    },
    {
     "name": "stdout",
     "output_type": "stream",
     "text": [
      "First: 1\n",
      "Middle: [2, 3, 4]\n",
      "Last: 5\n"
     ]
    }
   ],
   "source": [
    "# Function for Unpacking Numbers\n",
    "def unpack(number):\n",
    "    # get first number\n",
    "    first = number[0]\n",
    "    # get middle numbers\n",
    "    middle = number[1:-1]\n",
    "    # get last number\n",
    "    last = number[-1]\n",
    "\n",
    "    # show results\n",
    "    print(\"First:\", first)\n",
    "    print(\"Middle:\", middle)\n",
    "    print(\"Last:\", last)\n",
    "\n",
    "# Input and Output\n",
    "nums = input(\"Enter numbers separated by space: \").split()\n",
    "lst = []\n",
    "for n in nums:\n",
    "    lst.append(int(n))\n",
    "\n",
    "unpack(lst)\n"
   ]
  },
  {
   "cell_type": "code",
   "execution_count": null,
   "id": "e9f9b254-a3cb-4c28-a832-9588033043bf",
   "metadata": {},
   "outputs": [],
   "source": []
  }
 ],
 "metadata": {
  "kernelspec": {
   "display_name": "Python 3 (ipykernel)",
   "language": "python",
   "name": "python3"
  },
  "language_info": {
   "codemirror_mode": {
    "name": "ipython",
    "version": 3
   },
   "file_extension": ".py",
   "mimetype": "text/x-python",
   "name": "python",
   "nbconvert_exporter": "python",
   "pygments_lexer": "ipython3",
   "version": "3.13.5"
  }
 },
 "nbformat": 4,
 "nbformat_minor": 5
}
